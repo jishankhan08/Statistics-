{
  "nbformat": 4,
  "nbformat_minor": 0,
  "metadata": {
    "colab": {
      "provenance": []
    },
    "kernelspec": {
      "name": "python3",
      "display_name": "Python 3"
    },
    "language_info": {
      "name": "python"
    }
  },
  "cells": [
    {
      "cell_type": "markdown",
      "source": [
        "Q 1 = Generate a list of> 100 integers containing values between 90 to 130 and store it in the variable int_list.\n",
        "After generating the list, find the >following:\n",
        "\n",
        "  \n",
        "\n",
        "  (i) Write a Python function to calculate the mean of a given list of numbers.\n",
        "\n",
        "Create a function to find the median of a list of numbers.\n",
        "\n",
        "  \n",
        "\n",
        "  (ii) Develop a program to compute the mode of a list of integers.\n",
        "\n",
        "  \n",
        "\n",
        "  (iii) Implement a function to calculate the weighted mean of a list of values and their corresponding weights.\n",
        "\n",
        "  \n",
        "\n",
        "  (iv) Write a Python function to find the geometric mean of a list of positive numbers.\n",
        "\n",
        "  \n",
        "\n",
        "  (v) Create a program to calculate the harmonic mean of a list of values.\n",
        "\n",
        "  \n",
        "\n",
        "  (vi) Build a function to determine the midrange of a list of numbers (average of the minimum and maximum).\n",
        "\n",
        "  \n",
        "\n",
        "  (vii) Implement a Python program to find the trimmed mean of a list, excluding a certain percentage of\n",
        "outliers."
      ],
      "metadata": {
        "id": "RJ75R23bU-ad"
      }
    },
    {
      "cell_type": "markdown",
      "source": [
        "(i) Mean and Median Functions"
      ],
      "metadata": {
        "id": "Lxf9nnNJVMQ1"
      }
    },
    {
      "cell_type": "code",
      "source": [
        "import statistics\n",
        "\n",
        "# Function to calculate the mean\n",
        "def calculate_mean(numbers):\n",
        "    return sum(numbers) / len(numbers)\n",
        "\n",
        "# Function to calculate the median\n",
        "def calculate_median(numbers):\n",
        "    return statistics.median(numbers)\n",
        "\n",
        "# Example usage\n",
        "int_list = [int(random.uniform(90, 131)) for _ in range(100)]  # Generate a list of integers between 90 and 130\n",
        "mean = calculate_mean(int_list)\n",
        "median = calculate_median(int_list)\n"
      ],
      "metadata": {
        "id": "Uni3i-WWVGWU"
      },
      "execution_count": null,
      "outputs": []
    },
    {
      "cell_type": "markdown",
      "source": [
        "(ii) Mode Function"
      ],
      "metadata": {
        "id": "4y0QxyABVQV_"
      }
    },
    {
      "cell_type": "code",
      "source": [
        "from collections import Counter\n",
        "\n",
        "# Function to compute the mode\n",
        "def calculate_mode(numbers):\n",
        "    counts = Counter(numbers)\n",
        "    max_count = max(counts.values())\n",
        "    return [num for num, count in counts.items() if count == max_count]\n",
        "\n",
        "# Example usage\n",
        "mode = calculate_mode(int_list)\n"
      ],
      "metadata": {
        "id": "BSWQuJ6rVTDP"
      },
      "execution_count": null,
      "outputs": []
    },
    {
      "cell_type": "markdown",
      "source": [
        "(iii) Weighted Mean Function"
      ],
      "metadata": {
        "id": "Cqvi7kD-VZYO"
      }
    },
    {
      "cell_type": "code",
      "source": [
        "# Function to calculate the weighted mean\n",
        "def calculate_weighted_mean(values, weights):\n",
        "    return sum(v * w for v, w in zip(values, weights)) / sum(weights)\n",
        "\n",
        "# Example usage\n",
        "values = [1, 2, 3]\n",
        "weights = [0.2, 0.5, 0.3]\n",
        "weighted_mean = calculate_weighted_mean(values, weights)\n"
      ],
      "metadata": {
        "id": "xtPkrERTVZ7h"
      },
      "execution_count": null,
      "outputs": []
    },
    {
      "cell_type": "markdown",
      "source": [
        "(iv) Geometric Mean Function"
      ],
      "metadata": {
        "id": "de4CMD94Vebs"
      }
    },
    {
      "cell_type": "code",
      "source": [
        "import math\n",
        "from functools import reduce\n",
        "\n",
        "# Function to calculate the geometric mean\n",
        "def calculate_geometric_mean(numbers):\n",
        "    return math.exp(sum(math.log(x) for x in numbers) / len(numbers))\n",
        "\n",
        "# Example usage\n",
        "geometric_mean = calculate_geometric_mean([1, 2, 3, 4, 5])\n"
      ],
      "metadata": {
        "id": "409BWgG7Vj8v"
      },
      "execution_count": null,
      "outputs": []
    },
    {
      "cell_type": "markdown",
      "source": [
        "(v) Harmonic Mean Function"
      ],
      "metadata": {
        "id": "zLYEe_KhVjfp"
      }
    },
    {
      "cell_type": "code",
      "source": [
        "# Function to calculate the harmonic mean\n",
        "def calculate_harmonic_mean(numbers):\n",
        "    return len(numbers) / sum(1/x for x in numbers)\n",
        "\n",
        "# Example usage\n",
        "harmonic_mean = calculate_harmonic_mean([1, 2, 3, 4, 5])\n"
      ],
      "metadata": {
        "id": "pnSwULEzVrrc"
      },
      "execution_count": null,
      "outputs": []
    },
    {
      "cell_type": "markdown",
      "source": [
        "(vi) Midrange Function"
      ],
      "metadata": {
        "id": "Ug5g_s1AV1Dn"
      }
    },
    {
      "cell_type": "code",
      "source": [
        "# Function to calculate the midrange\n",
        "def calculate_midrange(numbers):\n",
        "    return (min(numbers) + max(numbers)) / 2\n",
        "\n",
        "# Example usage\n",
        "midrange = calculate_midrange(int_list)\n"
      ],
      "metadata": {
        "id": "cGcc4aCgV1tW"
      },
      "execution_count": null,
      "outputs": []
    },
    {
      "cell_type": "markdown",
      "source": [
        "(vii) Trimmed Mean Function"
      ],
      "metadata": {
        "id": "fj2U-HS8V4W5"
      }
    },
    {
      "cell_type": "code",
      "source": [
        "# Function to calculate the trimmed mean\n",
        "def calculate_trimmed_mean(numbers, percentage):\n",
        "    sorted_numbers = sorted(numbers)\n",
        "    trim_count = int(len(sorted_numbers) * percentage / 100)\n",
        "    trimmed_numbers = sorted_numbers[trim_count:-trim_count]\n",
        "    return sum(trimmed_numbers) / len(trimmed_numbers)\n",
        "\n",
        "# Example usage\n",
        "trimmed_mean = calculate_trimmed_mean(int_list, 10)  # Trimming 10% of outliers\n"
      ],
      "metadata": {
        "id": "LauwLDs3V353"
      },
      "execution_count": null,
      "outputs": []
    },
    {
      "cell_type": "markdown",
      "source": [
        "2. Generate a list of> 500 integers containing values between 200 to 300 and store it in the variable int_list2.\n",
        "After generating the list, find the >following:\n",
        "\n",
        "\n",
        "  (i) Compare the given list of visualization for the given data:\n",
        "\n",
        "    \n",
        "\n",
        "    1. Frequency & Gaussian distribution\n",
        "\n",
        "    2. Frequency smoothened KDE plot\n",
        "\n",
        "    3. Gaussian distribution & smoothened KDE plot\n",
        "\n",
        "\n",
        "  (ii) Write a Python function to calculate the range of a given list of numbers.\n",
        "\n",
        "\n",
        "  (iii) Create a program to find the variance and standard deviation of a list of numbers.\n",
        "\n",
        "\n",
        "  (iv) Implement a function to compute the interquartile range (IQR) of a list of values.\n",
        "\n",
        "\n",
        "  (v) Build a program to calculate the coefficient of variation for a dataset.\n",
        "\n",
        "  \n",
        "\n",
        "  (vi) Write a Python function to find the mean absolute deviation (MAD) of a list of numbers.\n",
        "\n",
        "\n",
        "  (vii) Create a program to calculate the quartile deviation of a list of values.\n",
        "\n",
        "  \n",
        "\n",
        "  (viii) Implement a function to find the range-based coefficient of dispersion for a dataset"
      ],
      "metadata": {
        "id": "d-j8dUOkV_Wb"
      }
    },
    {
      "cell_type": "markdown",
      "source": [
        "(i) Visualization\n",
        "To visualize the data as requested, you can use libraries like matplotlib and seaborn. Here's how you can create the visualizations:"
      ],
      "metadata": {
        "id": "qZaQFhIfWk3k"
      }
    },
    {
      "cell_type": "code",
      "source": [
        "import numpy as np\n",
        "import matplotlib.pyplot as plt\n",
        "import seaborn as sns\n",
        "from scipy.stats import norm\n",
        "\n",
        "# Generate the list\n",
        "int_list2 = np.random.randint(200, 301, size=500)\n",
        "\n",
        "# Plot frequency distribution and Gaussian distribution\n",
        "plt.figure(figsize=(14, 6))\n",
        "\n",
        "# 1. Frequency & Gaussian Distribution\n",
        "plt.subplot(1, 3, 1)\n",
        "sns.histplot(int_list2, kde=False, stat='density', color='blue', bins=30, label='Frequency')\n",
        "xmin, xmax = plt.xlim()\n",
        "x = np.linspace(xmin, xmax, 100)\n",
        "p = norm.pdf(x, np.mean(int_list2), np.std(int_list2))\n",
        "plt.plot(x, p, 'k', linewidth=2, label='Gaussian Distribution')\n",
        "plt.title('Frequency & Gaussian Distribution')\n",
        "plt.xlabel('Value')\n",
        "plt.ylabel('Density')\n",
        "plt.legend()\n",
        "\n",
        "# 2. Frequency Smoothened KDE Plot\n",
        "plt.subplot(1, 3, 2)\n",
        "sns.histplot(int_list2, kde=True, color='blue', bins=30)\n",
        "plt.title('Frequency Smoothened KDE Plot')\n",
        "plt.xlabel('Value')\n",
        "plt.ylabel('Density')\n",
        "\n",
        "# 3. Gaussian Distribution & Smoothened KDE Plot\n",
        "plt.subplot(1, 3, 3)\n",
        "sns.histplot(int_list2, kde=True, color='blue', bins=30, stat='density', label='KDE Plot')\n",
        "xmin, xmax = plt.xlim()\n",
        "x = np.linspace(xmin, xmax, 100)\n",
        "p = norm.pdf(x, np.mean(int_list2), np.std(int_list2))\n",
        "plt.plot(x, p, 'k', linewidth=2, label='Gaussian Distribution')\n",
        "plt.title('Gaussian Distribution & Smoothened KDE Plot')\n",
        "plt.xlabel('Value')\n",
        "plt.ylabel('Density')\n",
        "plt.legend()\n",
        "\n",
        "plt.tight_layout()\n",
        "plt.show()\n"
      ],
      "metadata": {
        "id": "wDECEGUmWkbJ"
      },
      "execution_count": null,
      "outputs": []
    },
    {
      "cell_type": "markdown",
      "source": [
        "(ii) Range Function"
      ],
      "metadata": {
        "id": "VkYUFDGoWlb5"
      }
    },
    {
      "cell_type": "code",
      "source": [
        "# Function to calculate the range\n",
        "def calculate_range(numbers):\n",
        "    return max(numbers) - min(numbers)\n",
        "\n",
        "# Example usage\n",
        "data_range = calculate_range(int_list2)\n"
      ],
      "metadata": {
        "id": "Uzme-kTiV-vT"
      },
      "execution_count": null,
      "outputs": []
    },
    {
      "cell_type": "markdown",
      "source": [
        "(iii) Variance and Standard Deviation"
      ],
      "metadata": {
        "id": "RBtf45ASW4YY"
      }
    },
    {
      "cell_type": "code",
      "source": [
        "import numpy as np\n",
        "\n",
        "# Function to calculate variance and standard deviation\n",
        "def calculate_variance_and_std(numbers):\n",
        "    variance = np.var(numbers, ddof=1)\n",
        "    std_dev = np.std(numbers, ddof=1)\n",
        "    return variance, std_dev\n",
        "\n",
        "# Example usage\n",
        "variance, std_dev = calculate_variance_and_std(int_list2)\n"
      ],
      "metadata": {
        "id": "pANbWyIKW4Fy"
      },
      "execution_count": null,
      "outputs": []
    },
    {
      "cell_type": "markdown",
      "source": [
        "(iv) Interquartile Range (IQR) Function"
      ],
      "metadata": {
        "id": "SF3M89e5W-lp"
      }
    },
    {
      "cell_type": "code",
      "source": [
        "# Function to compute the interquartile range (IQR)\n",
        "def calculate_iqr(numbers):\n",
        "    q75, q25 = np.percentile(numbers, [75 ,25])\n",
        "    return q75 - q25\n",
        "\n",
        "# Example usage\n",
        "iqr = calculate_iqr(int_list2)\n"
      ],
      "metadata": {
        "id": "dLLjt8UgW_KB"
      },
      "execution_count": null,
      "outputs": []
    },
    {
      "cell_type": "markdown",
      "source": [
        "(v) Coefficient of Variation\n"
      ],
      "metadata": {
        "id": "-VneCRtGXDjh"
      }
    },
    {
      "cell_type": "code",
      "source": [
        "# Function to calculate the coefficient of variation\n",
        "def calculate_cv(numbers):\n",
        "    mean = np.mean(numbers)\n",
        "    std_dev = np.std(numbers, ddof=1)\n",
        "    return (std_dev / mean) * 100\n",
        "\n",
        "# Example usage\n",
        "cv = calculate_cv(int_list2)\n"
      ],
      "metadata": {
        "id": "7p9P18djXEHL"
      },
      "execution_count": null,
      "outputs": []
    },
    {
      "cell_type": "markdown",
      "source": [
        "(vi) Mean Absolute Deviation (MAD) Function"
      ],
      "metadata": {
        "id": "4s16ejUUXF_z"
      }
    },
    {
      "cell_type": "code",
      "source": [
        "# Function to calculate the mean absolute deviation (MAD)\n",
        "def calculate_mad(numbers):\n",
        "    mean = np.mean(numbers)\n",
        "    return np.mean(np.abs(numbers - mean))\n",
        "\n",
        "# Example usage\n",
        "mad = calculate_mad(int_list2)\n"
      ],
      "metadata": {
        "id": "NZQcK2zGXNoh"
      },
      "execution_count": null,
      "outputs": []
    },
    {
      "cell_type": "markdown",
      "source": [
        "(vii) Quartile Deviation Function"
      ],
      "metadata": {
        "id": "QJR2rv12XQsf"
      }
    },
    {
      "cell_type": "code",
      "source": [
        "# Function to calculate the quartile deviation\n",
        "def calculate_quartile_deviation(numbers):\n",
        "    q75, q25 = np.percentile(numbers, [75, 25])\n",
        "    return (q75 - q25) / 2\n",
        "\n",
        "# Example usage\n",
        "quartile_deviation = calculate_quartile_deviation(int_list2)\n"
      ],
      "metadata": {
        "id": "lNy0JbTrXS-m"
      },
      "execution_count": null,
      "outputs": []
    },
    {
      "cell_type": "markdown",
      "source": [
        "(viii) Range-Based Coefficient of Dispersion"
      ],
      "metadata": {
        "id": "-XKCUm8CXXFo"
      }
    },
    {
      "cell_type": "code",
      "source": [
        "# Function to calculate the range-based coefficient of dispersion\n",
        "def calculate_range_based_cd(numbers):\n",
        "    data_range = calculate_range(numbers)\n",
        "    mean = np.mean(numbers)\n",
        "    return (data_range / mean) * 100\n",
        "\n",
        "# Example usage\n",
        "range_based_cd = calculate_range_based_cd(int_list2)\n"
      ],
      "metadata": {
        "id": "w_3QlAbYXXmf"
      },
      "execution_count": null,
      "outputs": []
    },
    {
      "cell_type": "markdown",
      "source": [
        "Q3) Write a Python class representing a discrete random variable with methods to calculate its expected value and variance"
      ],
      "metadata": {
        "id": "k9Kvy22yXZi1"
      }
    },
    {
      "cell_type": "markdown",
      "source": [
        "o represent a discrete random variable in Python, you can create a class that stores the probabilities and corresponding values of the random variable. The class can then provide methods to calculate the expected value (mean) and variance."
      ],
      "metadata": {
        "id": "O0vIaMf9Xu_B"
      }
    },
    {
      "cell_type": "code",
      "source": [
        "class DiscreteRandomVariable:\n",
        "    def __init__(self, values, probabilities):\n",
        "        \"\"\"\n",
        "        Initialize the DiscreteRandomVariable with given values and their probabilities.\n",
        "\n",
        "        :param values: List of possible values of the random variable\n",
        "        :param probabilities: List of probabilities associated with each value\n",
        "        \"\"\"\n",
        "        if len(values) != len(probabilities):\n",
        "            raise ValueError(\"The length of values and probabilities must be the same.\")\n",
        "        if not all(0 <= p <= 1 for p in probabilities) or not (0.999 < sum(probabilities) < 1.001):\n",
        "            raise ValueError(\"Probabilities must be between 0 and 1 and sum up to 1.\")\n",
        "\n",
        "        self.values = values\n",
        "        self.probabilities = probabilities\n",
        "\n",
        "    def expected_value(self):\n",
        "        \"\"\"\n",
        "        Calculate the expected value (mean) of the discrete random variable.\n",
        "\n",
        "        :return: The expected value\n",
        "        \"\"\"\n",
        "        return sum(value * prob for value, prob in zip(self.values, self.probabilities))\n",
        "\n",
        "    def variance(self):\n",
        "        \"\"\"\n",
        "        Calculate the variance of the discrete random variable.\n",
        "\n",
        "        :return: The variance\n",
        "        \"\"\"\n",
        "        mean = self.expected_value()\n",
        "        return sum(prob * (value - mean) ** 2 for value, prob in zip(self.values, self.probabilities))\n",
        "\n",
        "# Example usage\n",
        "values = [1, 2, 3, 4]\n",
        "probabilities = [0.1, 0.2, 0.3, 0.4]\n",
        "\n",
        "rv = DiscreteRandomVariable(values, probabilities)\n",
        "print(\"Expected Value:\", rv.expected_value())\n",
        "print(\"Variance:\", rv.variance())\n"
      ],
      "metadata": {
        "id": "vbcw1Td3XuXP"
      },
      "execution_count": null,
      "outputs": []
    },
    {
      "cell_type": "markdown",
      "source": [
        "How It Works:\n",
        "Initialization (__init__):\n",
        "\n",
        "You provide lists of values and their probabilities.\n",
        "It checks that these lists are the same length and that probabilities add up to 1.\n",
        "\n",
        "Expected Value (expected_value) : Multiplies each value by its probability and adds everything up to get the average.\n",
        "Variance (variance):\n",
        "\n",
        "Finds the average (expected value), then calculates how far each value is from this average, squares that distance, and weighs it by the probability before adding up all these values to get the variance.\n"
      ],
      "metadata": {
        "id": "BOhqsl9_X_nl"
      }
    },
    {
      "cell_type": "markdown",
      "source": [
        "04) Implement a program to simulate the rolling of a 6air six-sided die and calculate the expected value and\n",
        "variance of the outcomes.\n"
      ],
      "metadata": {
        "id": "-dtC_8LcYx-o"
      }
    },
    {
      "cell_type": "code",
      "source": [
        "import random\n",
        "\n",
        "# Function to simulate rolling a fair six-sided die\n",
        "def roll_die(num_rolls):\n",
        "    outcomes = [random.randint(1, 6) for _ in range(num_rolls)]\n",
        "    return outcomes\n",
        "\n",
        "# Function to calculate the expected value and variance\n",
        "def calculate_statistics(outcomes):\n",
        "    mean = sum(outcomes) / len(outcomes)\n",
        "    variance = sum((x - mean) ** 2 for x in outcomes) / len(outcomes)\n",
        "    return mean, variance\n",
        "\n",
        "# Number of rolls to simulate\n",
        "num_rolls = 10000\n",
        "\n",
        "# Simulate rolling the die\n",
        "outcomes = roll_die(num_rolls)\n",
        "\n",
        "# Calculate statistics\n",
        "mean, variance = calculate_statistics(outcomes)\n",
        "\n",
        "print(f\"Expected Value (Mean): {mean:.2f}\")\n",
        "print(f\"Variance: {variance:.2f}\")\n"
      ],
      "metadata": {
        "id": "VuDf5O-LZHE7"
      },
      "execution_count": null,
      "outputs": []
    },
    {
      "cell_type": "markdown",
      "source": [
        "What the Code Does:\n",
        "\n",
        "roll_die(num_rolls):\n",
        "\n",
        "Simulates rolling a six-sided die num_rolls times.\n",
        "\n",
        "Each roll generates a random number between 1 and 6.\n",
        "\n",
        "calculate_statistics(outcomes):\n",
        "\n",
        "Mean: Calculates the average of the outcomes.\n",
        "\n",
        "Variance: Measures how spread out the outcomes are from the mean.\n",
        "\n",
        "Simulation:\n",
        "\n",
        "Rolls the die 10,000 times and calculates the average and variance of these rolls.\n",
        "\n",
        "\n",
        "This program is straightforward and provides an approximation of the expected value and variance of rolling a six-sided die.\n",
        "\n",
        "\n",
        "\n",
        "\n",
        "\n",
        "\n"
      ],
      "metadata": {
        "id": "VAInGYaSZVmi"
      }
    },
    {
      "cell_type": "markdown",
      "source": [
        "5) Create a Python function to generate random samples 6rom a given probability distribution (e.g., binomial, Poisson) and calculate their mean and variance"
      ],
      "metadata": {
        "id": "DMUAs1vVZgoX"
      }
    },
    {
      "cell_type": "markdown",
      "source": [
        "Function to Generate Samples and Calculate Mean and Variance"
      ],
      "metadata": {
        "id": "3_aLf0jCbo08"
      }
    },
    {
      "cell_type": "code",
      "source": [
        "import numpy as np\n",
        "\n",
        "def generate_samples_and_statistics(dist_type, *params, num_samples=1000):\n",
        "    \"\"\"\n",
        "    Generate random samples from a given probability distribution and calculate their mean and variance.\n",
        "\n",
        "    :param dist_type: Type of probability distribution ('binomial' or 'poisson')\n",
        "    :param params: Parameters for the distribution\n",
        "    :param num_samples: Number of samples to generate\n",
        "    :return: Mean and variance of the samples\n",
        "    \"\"\"\n",
        "    # Generate random samples based on distribution type\n",
        "    if dist_type == 'binomial':\n",
        "        if len(params) != 2:\n",
        "            raise ValueError(\"Binomial distribution requires two parameters: n (number of trials) and p (probability of success)\")\n",
        "        n, p = params\n",
        "        samples = np.random.binomial(n, p, num_samples)\n",
        "    elif dist_type == 'poisson':\n",
        "        if len(params) != 1:\n",
        "            raise ValueError(\"Poisson distribution requires one parameter: lambda (rate)\")\n",
        "        lambda_ = params[0]\n",
        "        samples = np.random.poisson(lambda_, num_samples)\n",
        "    else:\n",
        "        raise ValueError(\"Unsupported distribution type. Use 'binomial' or 'poisson'.\")\n",
        "\n",
        "    # Calculate mean and variance\n",
        "    mean = np.mean(samples)\n",
        "    variance = np.var(samples, ddof=0)  # Population variance\n",
        "\n",
        "    return mean, variance\n",
        "\n",
        "# Example usage\n",
        "dist_type = 'binomial'  # Change to 'poisson' for Poisson distribution\n",
        "params = (10, 0.5)  # Parameters for the distribution\n",
        "num_samples = 1000\n",
        "\n",
        "mean, variance = generate_samples_and_statistics(dist_type, *params, num_samples=num_samples)\n",
        "\n",
        "print(f\"Mean: {mean:.2f}\")\n",
        "print(f\"Variance: {variance:.2f}\")\n"
      ],
      "metadata": {
        "id": "sIC6IxA4boY5"
      },
      "execution_count": null,
      "outputs": []
    },
    {
      "cell_type": "markdown",
      "source": [
        "Explanation:\n",
        "\n",
        "Function Parameters:\n",
        "\n",
        "dist_type: The type of distribution ('binomial' or 'poisson').\n",
        "\n",
        "*params: The parameters for the distribution. For the binomial distribution, this should be n (number of trials) and p (probability of success).\n",
        "\n",
        " For the Poisson distribution, this should be lambda_ (rate or mean).\n",
        "\n",
        "num_samples: Number of samples to generate (default is 1000).\n",
        "\n",
        "Generating Samples:\n",
        "\n",
        "For the binomial distribution: Uses np.random.binomial(n, p, num_samples).\n",
        "\n",
        "For the Poisson distribution: Uses np.random.poisson(lambda_, num_samples).\n",
        "\n",
        "Calculating Statistics:\n",
        "\n",
        "Mean: Average value of the generated samples.\n",
        "\n",
        "Variance: Measures how spread out the samples are from the mean.\n",
        "\n",
        "Example Usage:\n",
        "\n",
        "You can change dist_type to 'poisson' and adjust the params to generate samples from a Poisson distribution.\n"
      ],
      "metadata": {
        "id": "iXCx0uZ-b19m"
      }
    },
    {
      "cell_type": "markdown",
      "source": [
        "6) Write a Python script to generate random numbers from a Gaussian (normal) distribution and compute\n",
        "the mean, variance, and standard deviation of the samples.\n"
      ],
      "metadata": {
        "id": "r8w6lVJmcAb2"
      }
    },
    {
      "cell_type": "code",
      "source": [
        "import numpy as np\n",
        "\n",
        "def generate_gaussian_samples(mean, std_dev, num_samples):\n",
        "    \"\"\"\n",
        "    Generate random samples from a Gaussian (normal) distribution and calculate their mean, variance, and standard deviation.\n",
        "\n",
        "    :param mean: Mean of the Gaussian distribution\n",
        "    :param std_dev: Standard deviation of the Gaussian distribution\n",
        "    :param num_samples: Number of samples to generate\n",
        "    :return: Mean, variance, and standard deviation of the samples\n",
        "    \"\"\"\n",
        "    # Generate random samples from a Gaussian distribution\n",
        "    samples = np.random.normal(mean, std_dev, num_samples)\n",
        "\n",
        "    # Calculate mean, variance, and standard deviation\n",
        "    sample_mean = np.mean(samples)\n",
        "    sample_variance = np.var(samples, ddof=0)  # Population variance\n",
        "    sample_std_dev = np.std(samples, ddof=0)   # Population standard deviation\n",
        "\n",
        "    return sample_mean, sample_variance, sample_std_dev\n",
        "\n",
        "# Parameters for the Gaussian distribution\n",
        "mean = 0        # Mean of the Gaussian distribution\n",
        "std_dev = 1     # Standard deviation of the Gaussian distribution\n",
        "num_samples = 1000  # Number of samples to generate\n",
        "\n",
        "# Generate samples and calculate statistics\n",
        "sample_mean, sample_variance, sample_std_dev = generate_gaussian_samples(mean, std_dev, num_samples)\n",
        "\n",
        "print(f\"Mean of samples: {sample_mean:.2f}\")\n",
        "print(f\"Variance of samples: {sample_variance:.2f}\")\n",
        "print(f\"Standard Deviation of samples: {sample_std_dev:.2f}\")\n"
      ],
      "metadata": {
        "id": "Ly1svFwanYAl"
      },
      "execution_count": null,
      "outputs": []
    },
    {
      "cell_type": "markdown",
      "source": [
        "Explanation:\n",
        "\n",
        "Function generate_gaussian_samples:\n",
        "\n",
        "\n",
        "mean: The mean of the Gaussian distribution.\n",
        "\n",
        "std_dev: The standard deviation of the Gaussian distribution.\n",
        "\n",
        "num_samples: The number of samples to generate.\n",
        "\n",
        "Generates samples using np.random.normal(mean, std_dev, num_samples).\n",
        "\n",
        "Computes the mean, variance, and standard deviation of the samples using numpy functions:\n",
        "\n",
        "np.mean(): Computes the mean of the samples.\n",
        "\n",
        "np.var(): Computes the variance (using ddof=0 for population variance).\n",
        "\n",
        "np.std(): Computes the standard deviation (using ddof=0 for population standard deviation).\n",
        "\n",
        "Parameters:\n",
        "\n",
        "Adjust the mean, std_dev, and num_samples to fit your requirements.\n",
        "Example Output:\n",
        "\n",
        "The script will print the mean, variance, and standard deviation of the generated samples.\n",
        "\n",
        "This script allows you to easily generate samples from a normal distribution and analyze their statistical properties."
      ],
      "metadata": {
        "id": "CwHDT_xxnkCb"
      }
    },
    {
      "cell_type": "markdown",
      "source": [
        "7) Use Seaborn library to load tips dataset. Find the 6ollowing from the dataset for the columns total bill and tip:\n",
        "\n",
        "  \n",
        "\n",
        "  (1) Write a Python function that calculates their skewness.\n",
        "\n",
        "\n",
        "  (2) Create a program that determines whether the columns exhibit positive skewness, negative skewness, or is approximately symmetric.\n",
        "\n",
        "\n",
        "  (3) Write a function that calculates the covariance between two columns.\n",
        "\n",
        "\n",
        "  (4) Implement a Python program that calculates the Pearson correlation coefficient between two columns.\n",
        "\n",
        "\n",
        "  (v) Write a script to visualize the correlation between two specific columns on a Pandas Data Frame using scatter plots."
      ],
      "metadata": {
        "id": "t_DzVSbyn3X-"
      }
    },
    {
      "cell_type": "markdown",
      "source": [
        "Load the Tips Dataset:"
      ],
      "metadata": {
        "id": "e2r44y3cpOiV"
      }
    },
    {
      "cell_type": "code",
      "source": [
        "import seaborn as sns\n",
        "import pandas as pd\n",
        "import numpy as np\n",
        "import matplotlib.pyplot as plt\n",
        "\n",
        "# Load the tips dataset\n",
        "df = sns.load_dataset('tips')\n"
      ],
      "metadata": {
        "id": "27HTned5pJvL"
      },
      "execution_count": null,
      "outputs": []
    },
    {
      "cell_type": "markdown",
      "source": [
        "Calculate Skewness:\n",
        "Skewness measures the asymmetry of the distribution of values. Positive skewness indicates a longer right tail, while negative skewness indicates a longer left tail."
      ],
      "metadata": {
        "id": "4KnCNh_TpThk"
      }
    },
    {
      "cell_type": "code",
      "source": [
        "from scipy.stats import skew\n",
        "\n",
        "def calculate_skewness(column):\n",
        "    \"\"\"Calculate skewness of a given column.\"\"\"\n",
        "    return skew(column.dropna())\n",
        "\n",
        "# Calculate skewness for 'total_bill' and 'tip'\n",
        "skewness_total_bill = calculate_skewness(df['total_bill'])\n",
        "skewness_tip = calculate_skewness(df['tip'])\n",
        "\n",
        "print(f\"Skewness of 'total_bill': {skewness_total_bill:.2f}\")\n",
        "print(f\"Skewness of 'tip': {skewness_tip:.2f}\")\n"
      ],
      "metadata": {
        "id": "CkYGnC3spVde"
      },
      "execution_count": null,
      "outputs": []
    },
    {
      "cell_type": "markdown",
      "source": [
        "Determine Skewness Type:\n",
        "Determine whether the columns exhibit positive skewness, negative skewness, or are approximately symmetric based on the skewness values."
      ],
      "metadata": {
        "id": "jLq8if-0pcvt"
      }
    },
    {
      "cell_type": "code",
      "source": [
        "def skewness_type(skewness):\n",
        "    \"\"\"Determine the type of skewness.\"\"\"\n",
        "    if skewness > 0:\n",
        "        return \"Positive skewness\"\n",
        "    elif skewness < 0:\n",
        "        return \"Negative skewness\"\n",
        "    else:\n",
        "        return \"Approximately symmetric\"\n",
        "\n",
        "# Determine skewness type\n",
        "skewness_type_total_bill = skewness_type(skewness_total_bill)\n",
        "skewness_type_tip = skewness_type(skewness_tip)\n",
        "\n",
        "print(f\"'total_bill' exhibits: {skewness_type_total_bill}\")\n",
        "print(f\"'tip' exhibits: {skewness_type_tip}\")\n"
      ],
      "metadata": {
        "id": "qkdiXysgpYHR"
      },
      "execution_count": null,
      "outputs": []
    },
    {
      "cell_type": "markdown",
      "source": [
        "Calculate Covariance:\n",
        "Covariance measures the degree to which two variables change together."
      ],
      "metadata": {
        "id": "tUMn7RFDplsb"
      }
    },
    {
      "cell_type": "code",
      "source": [
        "def calculate_covariance(column1, column2):\n",
        "    \"\"\"Calculate covariance between two columns.\"\"\"\n",
        "    return np.cov(column1.dropna(), column2.dropna())[0, 1]\n",
        "\n",
        "# Calculate covariance between 'total_bill' and 'tip'\n",
        "covariance_total_bill_tip = calculate_covariance(df['total_bill'], df['tip'])\n",
        "\n",
        "print(f\"Covariance between 'total_bill' and 'tip': {covariance_total_bill_tip:.2f}\")\n"
      ],
      "metadata": {
        "id": "WWVKYcwBpo7h"
      },
      "execution_count": null,
      "outputs": []
    },
    {
      "cell_type": "markdown",
      "source": [
        "Calculate Pearson Correlation Coefficient:\n",
        "The Pearson correlation coefficient measures the linear relationship between two variables."
      ],
      "metadata": {
        "id": "mDtflfTZpu2D"
      }
    },
    {
      "cell_type": "code",
      "source": [
        "def calculate_pearson_correlation(column1, column2):\n",
        "    \"\"\"Calculate Pearson correlation coefficient between two columns.\"\"\"\n",
        "    return np.corrcoef(column1.dropna(), column2.dropna())[0, 1]\n",
        "\n",
        "# Calculate Pearson correlation coefficient between 'total_bill' and 'tip'\n",
        "pearson_correlation_total_bill_tip = calculate_pearson_correlation(df['total_bill'], df['tip'])\n",
        "\n",
        "print(f\"Pearson correlation coefficient between 'total_bill' and 'tip': {pearson_correlation_total_bill_tip:.2f}\")\n"
      ],
      "metadata": {
        "id": "9DVwNEXwp1eM"
      },
      "execution_count": null,
      "outputs": []
    },
    {
      "cell_type": "markdown",
      "source": [
        "Visualize Correlation Using Scatter Plot:\n",
        "Create a scatter plot to visualize the correlation between two columns."
      ],
      "metadata": {
        "id": "iwhkohfkp5lu"
      }
    },
    {
      "cell_type": "code",
      "source": [
        "def plot_scatter(column1, column2, xlabel, ylabel):\n",
        "    \"\"\"Create a scatter plot of two columns.\"\"\"\n",
        "    plt.figure(figsize=(8, 6))\n",
        "    plt.scatter(column1, column2, alpha=0.6)\n",
        "    plt.xlabel(xlabel)\n",
        "    plt.ylabel(ylabel)\n",
        "    plt.title(f'Scatter Plot of {xlabel} vs {ylabel}')\n",
        "    plt.grid(True)\n",
        "    plt.show()\n",
        "\n",
        "# Plot scatter plot between 'total_bill' and 'tip'\n",
        "plot_scatter(df['total_bill'], df['tip'], 'Total Bill', 'Tip')\n"
      ],
      "metadata": {
        "id": "gFZoUO2kp61r"
      },
      "execution_count": null,
      "outputs": []
    },
    {
      "cell_type": "markdown",
      "source": [
        "Summary of the Script:\n",
        "\n",
        "Calculate Skewness: Use scipy.stats.skew to measure the skewness of the total_bill and tip columns.\n",
        "\n",
        "Determine Skewness Type: Assess whether the skewness is positive, negative, or approximately symmetric.\n",
        "\n",
        "Calculate Covariance: Use numpy.cov to measure how the total_bill and tip columns vary together.\n",
        "\n",
        "Calculate Pearson Correlation Coefficient: Use numpy.corrcoef to determine the linear relationship between the two columns.\n",
        "\n",
        "Visualize Correlation: Use matplotlib.pyplot.scatter to create a scatter plot showing the relationship between total_bill and tip.\n",
        "\n",
        "This script will help you analyze the skewness, covariance, and correlation of the total_bill and tip columns and visualize their relationship."
      ],
      "metadata": {
        "id": "rk64uS6sp9MS"
      }
    },
    {
      "cell_type": "markdown",
      "source": [
        "8) Calculate the PDF of a normal distribution"
      ],
      "metadata": {
        "id": "fh1dHWklqFBV"
      }
    },
    {
      "cell_type": "code",
      "source": [
        "def normal_pdf(x, mean=0, std_dev=1):\n",
        "    return stats.norm.pdf(x, loc=mean, scale=std_dev)\n",
        "\n",
        "print(\"PDF at x=0:\", normal_pdf(0))\n"
      ],
      "metadata": {
        "id": "G6GOzaOLp8yx"
      },
      "execution_count": null,
      "outputs": []
    },
    {
      "cell_type": "markdown",
      "source": [
        "9) Calculate the CDF of an exponential distribution"
      ],
      "metadata": {
        "id": "qMVZzzGSqn_5"
      }
    },
    {
      "cell_type": "code",
      "source": [
        "def exponential_cdf(x, rate=1):\n",
        "    return 1 - np.exp(-rate * x)\n",
        "\n",
        "print(\"CDF at x=1:\", exponential_cdf(1))\n"
      ],
      "metadata": {
        "id": "Jt-JCbrPrEoh"
      },
      "execution_count": null,
      "outputs": []
    },
    {
      "cell_type": "markdown",
      "source": [
        "10) Calculate the PMF of a Poisson distribution\n"
      ],
      "metadata": {
        "id": "_YsTMbS_rGgq"
      }
    },
    {
      "cell_type": "code",
      "source": [
        "def poisson_pmf(k, lam=3):\n",
        "    return stats.poisson.pmf(k, mu=lam)\n",
        "\n",
        "print(\"PMF at k=2:\", poisson_pmf(2))\n"
      ],
      "metadata": {
        "id": "uYku9StXrGNC"
      },
      "execution_count": null,
      "outputs": []
    },
    {
      "cell_type": "markdown",
      "source": [
        "11) A company wants to test if a new website layout leads to a higher conversion rate (percentage of visitors\n",
        "who make a purchase). They collect data From the old and new layouts to compare.\n",
        "\n",
        "\n",
        "To generate the data use the following comma<d:\n",
        "\n",
        "python\n",
        "\n",
        "import numpy as np\n",
        "\n",
        "# 50 purchases out of 1000 visitors\n",
        "\n",
        "old_layout = np.array([1] * 50 + [0] * 950)\n",
        "\n",
        "# 70 purchases out of 1000 visitors  \n",
        "\n",
        "new_layout = np.array([1] * 70 + [0] * 930)\n",
        "\n",
        "\n",
        "Apply z-test to fi<d which layout is successful"
      ],
      "metadata": {
        "id": "DQedCNyDsY-8"
      }
    },
    {
      "cell_type": "markdown",
      "source": [
        "o determine if the new website layout leads to a higher conversion rate compared to the old layout using a z-test, follow these steps:\n",
        "\n",
        "Calculate the Conversion Rates:\n",
        "\n",
        "For the old layout:\n",
        "Conversion Rate\n",
        "old\n",
        "=\n",
        "Number of Purchases\n",
        "old\n",
        "Total Visitors\n",
        "old\n",
        "Conversion Rate\n",
        "old\n",
        "​\n",
        " =\n",
        "Total Visitors\n",
        "old\n",
        "​\n",
        "\n",
        "Number of Purchases\n",
        "old\n",
        "​\n",
        "\n",
        "​\n",
        "\n",
        "For the new layout:\n",
        "Conversion Rate\n",
        "new\n",
        "=\n",
        "Number of Purchases\n",
        "new\n",
        "Total Visitors\n",
        "new\n",
        "Conversion Rate\n",
        "new\n",
        "​\n",
        " =\n",
        "Total Visitors\n",
        "new\n",
        "​\n",
        "\n",
        "Number of Purchases\n",
        "new\n",
        "​\n",
        "\n",
        "​\n",
        "\n",
        "Calculate the Pooled Proportion:\n",
        "\n",
        "The pooled proportion combines the success rates of both groups.\n",
        "Compute the Standard Error:\n",
        "\n",
        "The standard error measures the variability of the difference in conversion rates.\n",
        "Calculate the Z-Score:\n",
        "\n",
        "The z-score measures how many standard deviations the difference between the conversion rates is from the mean difference under the null hypothesis.\n",
        "Calculate the P-Value:\n",
        "\n",
        "The p-value indicates the probability of observing a difference as extreme as the one observed if the null hypothesis is true.\n",
        "Determine Statistical Significance:\n",
        "\n",
        "Compare the p-value to a significance level (e.g., 0.05) to decide if the observed difference is statistically significant."
      ],
      "metadata": {
        "id": "KHs6gVAcsabM"
      }
    },
    {
      "cell_type": "code",
      "source": [
        "import numpy as np\n",
        "from scipy import stats\n",
        "\n",
        "# Generate the data\n",
        "old_layout = np.array([1] * 50 + [0] * 950)\n",
        "new_layout = np.array([1] * 70 + [0] * 930)\n",
        "\n",
        "# Number of purchases and visitors\n",
        "x1 = old_layout.sum()  # Number of purchases for old layout\n",
        "n1 = len(old_layout)   # Number of visitors for old layout\n",
        "x2 = new_layout.sum()  # Number of purchases for new layout\n",
        "n2 = len(new_layout)   # Number of visitors for new layout\n",
        "\n",
        "# Conversion rates\n",
        "p1 = x1 / n1\n",
        "p2 = x2 / n2\n",
        "\n",
        "# Pooled proportion\n",
        "p = (x1 + x2) / (n1 + n2)\n",
        "\n",
        "# Standard error of the difference in proportions\n",
        "se = np.sqrt(p * (1 - p) * (1 / n1 + 1 / n2))\n",
        "\n",
        "# Z-score\n",
        "z = (p2 - p1) / se\n",
        "\n",
        "# P-value from the z-score (one-tailed test)\n",
        "p_value = stats.norm.sf(z)  # For a one-tailed test\n",
        "\n",
        "# Output results\n",
        "print(f\"Conversion rate for old layout: {p1:.4f}\")\n",
        "print(f\"Conversion rate for new layout: {p2:.4f}\")\n",
        "print(f\"Z-score: {z:.4f}\")\n",
        "print(f\"P-value: {p_value:.4f}\")\n",
        "\n",
        "# Determine if the difference is statistically significant\n",
        "alpha = 0.05  # significance level\n",
        "if p_value < alpha:\n",
        "    print(\"Reject the null hypothesis: The new layout has a significantly higher conversion rate.\")\n",
        "else:\n",
        "    print(\"Fail to reject the null hypothesis: No significant difference in conversion rates.\")\n"
      ],
      "metadata": {
        "id": "exxTRwqqs3qT"
      },
      "execution_count": null,
      "outputs": []
    },
    {
      "cell_type": "markdown",
      "source": [
        "Explanation:\n",
        "Calculate Conversion Rates:\n",
        "\n",
        "p1 and p2 are the conversion rates for the old and new layouts, respectively.\n",
        "Pooled Proportion:\n",
        "\n",
        "p is the combined conversion rate of both layouts.\n",
        "Standard Error:\n",
        "\n",
        "Calculated to quantify the variability of the difference in conversion rates.\n",
        "Z-Score:\n",
        "\n",
        "Measures how many standard deviations the observed difference is from the null hypothesis.\n",
        "P-Value:\n",
        "\n",
        "For a one-tailed test, we use stats.norm.sf(z) to get the p-value.\n",
        "Decision:\n",
        "\n",
        "Compare the p-value to the significance level to determine if the new layout has a statistically significantly higher conversion rate."
      ],
      "metadata": {
        "id": "aVhQ3hNHs8_G"
      }
    },
    {
      "cell_type": "markdown",
      "source": [
        "12) A tutoring service claims that its program improves students' exam scores. A sample of students who\n",
        "participated in the program was taken, and their scores before and after the program were recorded.\n",
        "\n",
        "\n",
        "Use the below code to generate samples of respective arrays of marks:\n",
        "\n",
        "python\n",
        "\n",
        "before_program = np.array([75, 80, 85, 70, 90, 78, 92, 88, 82, 87])\n",
        "\n",
        "after_program = np.array([80, 85, 90, 80, 92, 80, 95, 90, 85, 88])\n",
        "\n",
        "\n",
        "Use z-test to fi<d if the claims made by tutor are true or false"
      ],
      "metadata": {
        "id": "oYI0SvsxtBee"
      }
    },
    {
      "cell_type": "markdown",
      "source": [
        "To determine if the tutoring program improves students' exam scores using a z-test, you'll follow these steps:\n",
        "\n",
        "Define the Hypotheses:\n",
        "\n",
        "Null Hypothesis (H₀): The tutoring program does not improve exam scores. (Mean score before = Mean score after)\n",
        "Alternative Hypothesis (H₁): The tutoring program improves exam scores. (Mean score before < Mean score after)\n",
        "Calculate the Mean and Standard Deviation:\n",
        "\n",
        "Compute the mean and standard deviation for scores before and after the program.\n",
        "Perform the Z-Test:\n",
        "\n",
        "Calculate the z-score to compare the difference in means.\n",
        "Calculate the P-Value:\n",
        "\n",
        "Determine the probability of observing a difference as extreme as the one observed if the null hypothesis is true.\n",
        "Here's the Python code to perform these steps:"
      ],
      "metadata": {
        "id": "dTRi-T5-tg4z"
      }
    },
    {
      "cell_type": "code",
      "source": [
        "import numpy as np\n",
        "from scipy import stats\n",
        "\n",
        "# Sample data\n",
        "before_program = np.array([75, 80, 85, 70, 90, 78, 92, 88, 82, 87])\n",
        "after_program = np.array([80, 85, 90, 80, 92, 80, 95, 90, 85, 88])\n",
        "\n",
        "# Calculate means\n",
        "mean_before = np.mean(before_program)\n",
        "mean_after = np.mean(after_program)\n",
        "\n",
        "# Calculate standard deviations\n",
        "std_before = np.std(before_program, ddof=1)\n",
        "std_after = np.std(after_program, ddof=1)\n",
        "\n",
        "# Sample sizes\n",
        "n_before = len(before_program)\n",
        "n_after = len(after_program)\n",
        "\n",
        "# Standard error of the difference in means\n",
        "se = np.sqrt((std_before**2 / n_before) + (std_after**2 / n_after))\n",
        "\n",
        "# Z-score\n",
        "z = (mean_after - mean_before) / se\n",
        "\n",
        "# P-value from the z-score (one-tailed test)\n",
        "p_value = stats.norm.sf(z)  # For a one-tailed test\n",
        "\n",
        "# Output results\n",
        "print(f\"Mean score before the program: {mean_before:.2f}\")\n",
        "print(f\"Mean score after the program: {mean_after:.2f}\")\n",
        "print(f\"Z-score: {z:.4f}\")\n",
        "print(f\"P-value: {p_value:.4f}\")\n",
        "\n",
        "# Determine if the difference is statistically significant\n",
        "alpha = 0.05  # significance level\n",
        "if p_value < alpha:\n",
        "    print(\"Reject the null hypothesis: The tutoring program significantly improves exam scores.\")\n",
        "else:\n",
        "    print(\"Fail to reject the null hypothesis: No significant improvement in exam scores.\")\n"
      ],
      "metadata": {
        "id": "NfZGB465tkfO"
      },
      "execution_count": null,
      "outputs": []
    },
    {
      "cell_type": "markdown",
      "source": [
        "Explanation:\n",
        "Calculate Means and Standard Deviations:\n",
        "\n",
        "mean_before and mean_after are the average scores before and after the program.\n",
        "std_before and std_after are the standard deviations of scores before and after the program.\n",
        "Standard Error:\n",
        "\n",
        "Measures the variability of the difference between the means of the two samples.\n",
        "Z-Score:\n",
        "\n",
        "Calculated to assess how far the observed difference in means is from the null hypothesis of no difference.\n",
        "P-Value:\n",
        "\n",
        "For a one-tailed test, stats.norm.sf(z) provides the p-value.\n",
        "Decision:\n",
        "\n",
        "Compare the p-value to the significance level (alpha) to determine if the tutoring program has a statistically significant effect on improving exam scores.\n",
        "This approach will help you evaluate whether the tutoring service's claim is statistically supported by the data.\n",
        "\n",
        "\n",
        "\n",
        "\n",
        "\n",
        "\n"
      ],
      "metadata": {
        "id": "503CPMVQtqWX"
      }
    },
    {
      "cell_type": "markdown",
      "source": [
        "13) A pharmaceutical company wants to determine if a new drug is effective in reducing blood pressure. They\n",
        "conduct a study and record blood pressure measurements before and after administering the drug.\n",
        "\n",
        "\n",
        "Use the below code to generate samples of respective arrays of blood pressure:\n",
        "\n",
        "\n",
        "python\n",
        "\n",
        "before_drug = <p.array([145, 150, 140, 135, 155, 160, 152, 148, 130, 138])\n",
        "\n",
        "after_drug = np.array([130, 140, 132, 128, 145, 148, 138, 136, 125, 130])\n",
        "\n",
        "\n",
        "\n",
        "Implement z-test to fi<d if the drug really works or not"
      ],
      "metadata": {
        "id": "jzQP0fCEtrPZ"
      }
    },
    {
      "cell_type": "markdown",
      "source": [
        "To determine if the new drug is effective in reducing blood pressure using a z-test, follow these steps:\n",
        "\n",
        "Define the Hypotheses:\n",
        "\n",
        "Null Hypothesis (H₀): The drug does not reduce blood pressure. (Mean blood pressure before = Mean blood pressure after)\n",
        "Alternative Hypothesis (H₁): The drug reduces blood pressure. (Mean blood pressure before > Mean blood pressure after)\n",
        "Calculate the Mean and Standard Deviation:\n",
        "\n",
        "Compute the mean and standard deviation for blood pressure measurements before and after administering the drug.\n",
        "Perform the Z-Test:\n",
        "\n",
        "Calculate the z-score to compare the difference in means.\n",
        "Calculate the P-Value:\n",
        "\n",
        "Determine the probability of observing a difference as extreme as the one observed if the null hypothesis is true.\n",
        "Here's the Python code to perform these steps:"
      ],
      "metadata": {
        "id": "jCuQOI6JuX_t"
      }
    },
    {
      "cell_type": "code",
      "source": [
        "import numpy as np\n",
        "from scipy import stats\n",
        "\n",
        "# Sample data\n",
        "before_drug = np.array([145, 150, 140, 135, 155, 160, 152, 148, 130, 138])\n",
        "after_drug = np.array([130, 140, 132, 128, 145, 148, 138, 136, 125, 130])\n",
        "\n",
        "# Calculate means\n",
        "mean_before = np.mean(before_drug)\n",
        "mean_after = np.mean(after_drug)\n",
        "\n",
        "# Calculate standard deviations\n",
        "std_before = np.std(before_drug, ddof=1)\n",
        "std_after = np.std(after_drug, ddof=1)\n",
        "\n",
        "# Sample sizes\n",
        "n_before = len(before_drug)\n",
        "n_after = len(after_drug)\n",
        "\n",
        "# Standard error of the difference in means\n",
        "se = np.sqrt((std_before**2 / n_before) + (std_after**2 / n_after))\n",
        "\n",
        "# Z-score\n",
        "z = (mean_before - mean_after) / se\n",
        "\n",
        "# P-value from the z-score (one-tailed test)\n",
        "p_value = stats.norm.sf(z)  # For a one-tailed test\n",
        "\n",
        "# Output results\n",
        "print(f\"Mean blood pressure before the drug: {mean_before:.2f}\")\n",
        "print(f\"Mean blood pressure after the drug: {mean_after:.2f}\")\n",
        "print(f\"Z-score: {z:.4f}\")\n",
        "print(f\"P-value: {p_value:.4f}\")\n",
        "\n",
        "# Determine if the difference is statistically significant\n",
        "alpha = 0.05  # significance level\n",
        "if p_value < alpha:\n",
        "    print(\"Reject the null hypothesis: The drug significantly reduces blood pressure.\")\n",
        "else:\n",
        "    print(\"Fail to reject the null hypothesis: No significant reduction in blood pressure.\")\n"
      ],
      "metadata": {
        "id": "oRSuww5auUUb"
      },
      "execution_count": null,
      "outputs": []
    },
    {
      "cell_type": "markdown",
      "source": [
        "Explanation:\n",
        "Calculate Means and Standard Deviations:\n",
        "\n",
        "mean_before and mean_after represent the average blood pressure measurements before and after the drug administration.\n",
        "std_before and std_after are the standard deviations of the blood pressure measurements before and after the drug administration.\n",
        "Standard Error:\n",
        "\n",
        "Calculated to quantify the variability of the difference between the means of the two samples.\n",
        "Z-Score:\n",
        "\n",
        "Measures how many standard deviations the observed difference is from the mean difference under the null hypothesis.\n",
        "P-Value:\n",
        "\n",
        "For a one-tailed test, stats.norm.sf(z) provides the p-value, which indicates the probability of observing a difference as extreme as the one observed if the null hypothesis is true.\n",
        "Decision:\n",
        "\n",
        "Compare the p-value to the significance level (alpha) to determine if the drug has a statistically significant effect on reducing blood pressure.\n",
        "This approach will help you assess whether the new drug is effective in reducing blood pressure compared to the measurements taken before its administration."
      ],
      "metadata": {
        "id": "bG2hTSQdubwo"
      }
    },
    {
      "cell_type": "markdown",
      "source": [
        "14) A customer service department claims that their average response time is less than 5 : minutes A sample\n",
        "of recent customer interactions was taken, and the response times were recorded.\n",
        "\n",
        "\n",
        "Implement the below code to generate the array of response time:\n",
        "\n",
        "python\n",
        "\n",
        "response_times = np.array([4.3, 3.8, 5.1, 4.9, 4.7, 4.2, 5.2, 4.5, 4.6, 4.4])\n",
        "\n",
        "\n",
        "Impleme3t z-test to fi3d the claims made by customer service department are tru or false"
      ],
      "metadata": {
        "id": "xvjB29wMufX2"
      }
    },
    {
      "cell_type": "markdown",
      "source": [
        "To test whether the average response time is less than 5 minutes using a z-test, follow these steps:\n",
        "\n",
        "Define the Hypotheses:\n",
        "\n",
        "Null Hypothesis (H₀): The average response time is 5 minutes or more. (Mean response time ≥ 5 minutes)\n",
        "Alternative Hypothesis (H₁): The average response time is less than 5 minutes. (Mean response time < 5 minutes)\n",
        "Calculate the Sample Mean and Standard Deviation:\n",
        "\n",
        "Compute the mean and standard deviation of the recorded response times.\n",
        "Perform the Z-Test:\n",
        "\n",
        "Calculate the z-score to compare the sample mean to the hypothesized population mean.\n",
        "Calculate the P-Value:\n",
        "\n",
        "Determine the probability of observing a sample mean as extreme as the one observed if the null hypothesis is true.\n",
        "Here's the Python code to perform these steps:"
      ],
      "metadata": {
        "id": "EA4FgyU-vh6Y"
      }
    },
    {
      "cell_type": "code",
      "source": [
        "import numpy as np\n",
        "from scipy import stats\n",
        "\n",
        "# Sample data\n",
        "response_times = np.array([4.3, 3.8, 5.1, 4.9, 4.7, 4.2, 5.2, 4.5, 4.6, 4.4])\n",
        "\n",
        "# Hypothesized mean response time\n",
        "hypothesized_mean = 5\n",
        "\n",
        "# Calculate sample mean and standard deviation\n",
        "sample_mean = np.mean(response_times)\n",
        "sample_std = np.std(response_times, ddof=1)\n",
        "\n",
        "# Sample size\n",
        "n = len(response_times)\n",
        "\n",
        "# Standard error of the mean\n",
        "se = sample_std / np.sqrt(n)\n",
        "\n",
        "# Z-score\n",
        "z = (sample_mean - hypothesized_mean) / se\n",
        "\n",
        "# P-value from the z-score (one-tailed test)\n",
        "p_value = stats.norm.sf(z)  # For a one-tailed test\n",
        "\n",
        "# Output results\n",
        "print(f\"Sample mean response time: {sample_mean:.2f}\")\n",
        "print(f\"Sample standard deviation: {sample_std:.2f}\")\n",
        "print(f\"Z-score: {z:.4f}\")\n",
        "print(f\"P-value: {p_value:.4f}\")\n",
        "\n",
        "# Determine if the difference is statistically significant\n",
        "alpha = 0.05  # significance level\n",
        "if p_value < alpha:\n",
        "    print(\"Reject the null hypothesis: The average response time is significantly less than 5 minutes.\")\n",
        "else:\n",
        "    print(\"Fail to reject the null hypothesis: No significant evidence that the average response time is less than 5 minutes.\")\n"
      ],
      "metadata": {
        "id": "5-YawdZFubbA"
      },
      "execution_count": null,
      "outputs": []
    },
    {
      "cell_type": "markdown",
      "source": [
        "Explanation:\n",
        "Calculate Sample Mean and Standard Deviation:\n",
        "\n",
        "sample_mean is the average response time from the sample.\n",
        "sample_std is the standard deviation of the response times.\n",
        "Standard Error:\n",
        "\n",
        "Measures the variability of the sample mean relative to the hypothesized population mean.\n",
        "Z-Score:\n",
        "\n",
        "Calculates how many standard deviations the sample mean is from the hypothesized mean (5 minutes).\n",
        "P-Value:\n",
        "\n",
        "For a one-tailed test, stats.norm.sf(z) gives the p-value, indicating the probability of observing a sample mean as extreme as the one observed if the null hypothesis is true.\n",
        "Decision:\n",
        "\n",
        "Compare the p-value to the significance level (alpha) to determine if there is significant evidence to support the claim that the average response time is less than 5 minutes.\n",
        "This approach will help you evaluate whether the customer service department's claim is statistically supported by the response time data."
      ],
      "metadata": {
        "id": "9FFhRoAQvpQc"
      }
    },
    {
      "cell_type": "markdown",
      "source": [
        "15) A company is testing two different website layouts to see which one leads to higher click-through rates\n",
        "Write a Python function to perform: an A/B test analysis, including calculating the t-statistic, degrees of\n",
        "freedom:, and p-value.\n",
        "\n",
        "\n",
        "Use the following data:\n",
        "\n",
        "python\n",
        "\n",
        "layout_a_clicks = [28, 32, 33, 29, 31, 34, 30, 35, 36, 37]\n",
        "\n",
        "layout_b_clicks = [40, 41, 38, 42, 39, 44, 43, 41, 45, 47]"
      ],
      "metadata": {
        "id": "ijG7_om_vseF"
      }
    },
    {
      "cell_type": "code",
      "source": [
        "import numpy as np\n",
        "from scipy import stats\n",
        "\n",
        "def ab_test_analysis(layout_a_clicks, layout_b_clicks):\n",
        "    # Convert lists to numpy arrays\n",
        "    layout_a = np.array(layout_a_clicks)\n",
        "    layout_b = np.array(layout_b_clicks)\n",
        "\n",
        "    # Calculate means\n",
        "    mean_a = np.mean(layout_a)\n",
        "    mean_b = np.mean(layout_b)\n",
        "\n",
        "    # Calculate standard deviations\n",
        "    std_a = np.std(layout_a, ddof=1)\n",
        "    std_b = np.std(layout_b, ddof=1)\n",
        "\n",
        "    # Sample sizes\n",
        "    n_a = len(layout_a)\n",
        "    n_b = len(layout_b)\n",
        "\n",
        "    # Calculate the t-statistic and p-value\n",
        "    pooled_var = (((n_a - 1) * std_a**2) + ((n_b - 1) * std_b**2)) / (n_a + n_b - 2)\n",
        "    se = np.sqrt(pooled_var * (1 / n_a + 1 / n_b))\n",
        "    t_statistic = (mean_a - mean_b) / se\n",
        "\n",
        "    # Degrees of freedom\n",
        "    degrees_of_freedom = n_a + n_b - 2\n",
        "\n",
        "    # Calculate the p-value (two-tailed test)\n",
        "    p_value = stats.t.sf(np.abs(t_statistic), degrees_of_freedom) * 2\n",
        "\n",
        "    # Output results\n",
        "    print(f\"Mean clicks for Layout A: {mean_a:.2f}\")\n",
        "    print(f\"Mean clicks for Layout B: {mean_b:.2f}\")\n",
        "    print(f\"Standard deviation for Layout A: {std_a:.2f}\")\n",
        "    print(f\"Standard deviation for Layout B: {std_b:.2f}\")\n",
        "    print(f\"T-statistic: {t_statistic:.4f}\")\n",
        "    print(f\"Degrees of freedom: {degrees_of_freedom}\")\n",
        "    print(f\"P-value: {p_value:.4f}\")\n",
        "\n",
        "    # Determine if the difference is statistically significant\n",
        "    alpha = 0.05  # significance level\n",
        "    if p_value < alpha:\n",
        "        print(\"Reject the null hypothesis: There is a significant difference in click-through rates between the two layouts.\")\n",
        "    else:\n",
        "        print(\"Fail to reject the null hypothesis: No significant difference in click-through rates between the two layouts.\")\n",
        "\n",
        "# Data\n",
        "layout_a_clicks = [28, 32, 33, 29, 31, 34, 30, 35, 36, 37]\n",
        "layout_b_clicks = [40, 41, 38, 42, 39, 44, 43, 41, 45, 47]\n",
        "\n",
        "# Perform A/B test analysis\n",
        "ab_test_analysis(layout_a_clicks, layout_b_clicks)\n"
      ],
      "metadata": {
        "id": "oYtPFaMZwhJo"
      },
      "execution_count": null,
      "outputs": []
    },
    {
      "cell_type": "markdown",
      "source": [
        "16) A pharmaceutical co: company wants to determine if a new drug more effective than an existing drug in\n",
        "reducing cholesterol levels Create a program: to analyze the clinical trial data and calculate the t-statistic and p-value for the treatment effect.\n",
        "\n",
        "\n",
        "Use the following data of cholesterol level:\n",
        "\n",
        "python\n",
        "\n",
        "existi3g_drug_levels = [180, 182, 175, 185, 178, 176, 172, 184, 179, 183]\n",
        "\n",
        "new_drug_levels = [170, 172, 165, 168, 175, 173, 170, 178, 1"
      ],
      "metadata": {
        "id": "F2sMJe4pwkVt"
      }
    },
    {
      "cell_type": "markdown",
      "source": [
        "To determine if a new drug is more effective than an existing drug in reducing cholesterol levels, you'll perform a t-test to compare the mean cholesterol levels between the two drugs. Here's how you can calculate the t-statistic and p-value to analyze the treatment effect:\n",
        "\n",
        "Define the Hypotheses:\n",
        "\n",
        "Null Hypothesis (H₀): The new drug is not more effective than the existing drug. (Mean cholesterol level with new drug ≥ Mean cholesterol level with existing drug)\n",
        "Alternative Hypothesis (H₁): The new drug is more effective than the existing drug. (Mean cholesterol level with new drug < Mean cholesterol level with existing drug)\n",
        "Calculate the Means and Standard Deviations:\n",
        "\n",
        "Compute the mean and standard deviation of cholesterol levels for each drug.\n",
        "Perform the T-Test:\n",
        "\n",
        "Calculate the t-statistic to compare the two sample means.\n",
        "Calculate the Degrees of Freedom and P-Value:\n",
        "\n",
        "Use the degrees of freedom to determine the p-value.\n",
        "Here's the Python code to perform these calculations:"
      ],
      "metadata": {
        "id": "RxAzJ5c5xAj7"
      }
    },
    {
      "cell_type": "code",
      "source": [
        "import numpy as np\n",
        "from scipy import stats\n",
        "\n",
        "def drug_comparison_analysis(existing_drug_levels, new_drug_levels):\n",
        "    # Convert lists to numpy arrays\n",
        "    existing_drug = np.array(existing_drug_levels)\n",
        "    new_drug = np.array(new_drug_levels)\n",
        "\n",
        "    # Calculate means\n",
        "    mean_existing = np.mean(existing_drug)\n",
        "    mean_new = np.mean(new_drug)\n",
        "\n",
        "    # Calculate standard deviations\n",
        "    std_existing = np.std(existing_drug, ddof=1)\n",
        "    std_new = np.std(new_drug, ddof=1)\n",
        "\n",
        "    # Sample sizes\n",
        "    n_existing = len(existing_drug)\n",
        "    n_new = len(new_drug)\n",
        "\n",
        "    # Calculate the t-statistic and\n"
      ],
      "metadata": {
        "id": "Mms6I7xqw4Bc"
      },
      "execution_count": null,
      "outputs": []
    },
    {
      "cell_type": "markdown",
      "source": [
        "17) A school district introduces an educational intervention program: to improve math scores Write a Python\n",
        "function to analyze pre- and post-intervention test scores, calculating the t-statistic and p-value to\n",
        "determine if the intervention had a significant impact.\n",
        "\n",
        "\n",
        "Use the following data of test scores:\n",
        "\n",
        "\n",
        "  \n",
        "python\n",
        "\n",
        "  pre_intervention_scores = [80, 85, 90, 75, 88, 82, 92, 78, 85, 87]\n",
        "\n",
        "  post_intervention_scores = [90, 92, 88, 92, 95, 91, 96,"
      ],
      "metadata": {
        "id": "nMpeTeQAx8hA"
      }
    },
    {
      "cell_type": "markdown",
      "source": [
        "To analyze whether an educational intervention program had a significant impact on math scores, you'll need to perform a paired t-test. This test compares the means of two related groups to determine if there is a statistically significant difference between them.\n",
        "\n",
        "Here's a step-by-step guide to calculating the t-statistic and p-value for the pre- and post-intervention test scores:\n",
        "\n",
        "Define the Hypotheses:\n",
        "\n",
        "Null Hypothesis (H₀): The intervention did not change the math scores. (Mean difference = 0)\n",
        "Alternative Hypothesis (H₁): The intervention changed the math scores. (Mean difference ≠ 0)\n",
        "Calculate the Differences:\n",
        "\n",
        "Compute the difference between the pre- and post-intervention scores for each student.\n",
        "Perform the Paired T-Test:\n",
        "\n",
        "Calculate the t-statistic and p-value to compare the average difference to zero.\n",
        "Here's the Python code to perform these calculations:"
      ],
      "metadata": {
        "id": "xwViDvM8x-4t"
      }
    },
    {
      "cell_type": "code",
      "source": [
        "import numpy as np\n",
        "from scipy import stats\n",
        "\n",
        "def intervention_analysis(pre_scores, post_scores):\n",
        "    # Convert lists to numpy arrays\n",
        "    pre = np.array(pre_scores)\n",
        "    post = np.array(post_scores)\n",
        "\n",
        "    # Calculate differences\n",
        "    differences = post - pre\n",
        "\n",
        "    # Calculate the mean and standard deviation of the differences\n",
        "    mean_diff = np.mean(differences)\n",
        "    std_diff = np.std(differences, ddof=1)\n",
        "\n",
        "    # Sample size\n",
        "    n = len(differences)\n",
        "\n",
        "    # Calculate the t-statistic and p-value\n",
        "    se_diff = std_diff / np.sqrt(n)  # Standard error of the mean difference\n",
        "    t_statistic = mean_diff / se_diff\n",
        "\n",
        "    # Degrees of freedom\n",
        "    degrees_of_freedom = n - 1\n",
        "\n",
        "    # Calculate the p-value (two-tailed test)\n",
        "    p_value = stats.t.sf(np.abs(t_statistic), degrees_of_freedom) * 2\n",
        "\n",
        "    # Output results\n",
        "    print(f\"Mean difference in scores: {mean_diff:.2f}\")\n",
        "    print(f\"Standard deviation of differences: {std_diff:.2f}\")\n",
        "    print(f\"T-statistic: {t_statistic:.4f}\")\n",
        "    print(f\"Degrees of freedom: {degrees_of_freedom}\")\n",
        "    print(f\"P-value: {p_value:.4f}\")\n",
        "\n",
        "    # Determine if the difference is statistically significant\n",
        "    alpha = 0.05  # significance level\n",
        "    if p_value < alpha:\n",
        "        print(\"Reject the null hypothesis: The intervention had a significant impact on math scores.\")\n",
        "    else:\n",
        "        print(\"Fail to reject the null hypothesis: No significant impact of the intervention on math scores.\")\n",
        "\n",
        "# Data\n",
        "pre_intervention_scores = [80, 85, 90, 75, 88, 82, 92, 78, 85, 87]\n",
        "post_intervention_scores = [90, 92, 88, 92, 95, 91, 96, 93, 89, 93]\n",
        "\n",
        "# Perform intervention analysis\n",
        "intervention_analysis(pre_intervention_scores, post_intervention_scores)\n"
      ],
      "metadata": {
        "id": "jDJSgG60x-ST"
      },
      "execution_count": null,
      "outputs": []
    },
    {
      "cell_type": "markdown",
      "source": [
        "Explanation:\n",
        "Calculate Differences:\n",
        "\n",
        "differences are the changes in scores for each student from before to after the intervention.\n",
        "Mean and Standard Deviation:\n",
        "\n",
        "mean_diff is the average change in scores.\n",
        "std_diff is the standard deviation of these changes.\n",
        "Standard Error:\n",
        "\n",
        "se_diff is the standard error of the mean difference.\n",
        "T-Statistic:\n",
        "\n",
        "Measures how many standard errors the mean difference is from zero.\n",
        "Degrees of Freedom:\n",
        "\n",
        "Calculated as the sample size minus 1.\n",
        "P-Value:\n",
        "\n",
        "For a two-tailed test, stats.t.sf(np.abs(t_statistic), degrees_of_freedom) * 2 gives the p-value, indicating the probability of observing a t-statistic as extreme as the one calculated.\n",
        "Decision:\n",
        "\n",
        "Compare the p-value to the significance level (alpha) to determine if the intervention had a statistically significant impact on math scores.\n",
        "This analysis will help you assess whether the educational intervention program had a significant effect on improving math scores."
      ],
      "metadata": {
        "id": "aQL7Kj8JyF2z"
      }
    },
    {
      "cell_type": "markdown",
      "source": [
        "18)  An HR department wants to investigate if there's a gender-based salary gap within the company. Develop\n",
        "a program to analyze salary data, calculate the t-statistic, and determine if there's a statistically\n",
        "significant difference between the average salaries of male and female employees.\n",
        "\n",
        "\n",
        "Use the below code to generate synthetic data\n",
        "python\n",
        "\n",
        "# Generate synthetic salary data for male and female employees\n",
        "\n",
        "np.random.seed(0)  # For reproducibility\n",
        "\n",
        "male_salaries = np.random.normal(loc=50000, scale=10000, size=20)\n",
        "\n",
        "female_salaries = np.random.normal(loc=55000, scale=9000, si"
      ],
      "metadata": {
        "id": "hWtIfDYSyG7L"
      }
    },
    {
      "cell_type": "markdown",
      "source": [
        "To investigate if there's a gender-based salary gap within the company, you can use a t-test to compare the average salaries of male and female employees. Here's how you can develop a program to perform this analysis:\n",
        "\n",
        "Define the Hypotheses:\n",
        "\n",
        "Null Hypothesis (H₀): There is no significant difference in average salaries between male and female employees. (Mean_salary_male = Mean_salary_female)\n",
        "Alternative Hypothesis (H₁): There is a significant difference in average salaries between male and female employees. (Mean_salary_male ≠ Mean_salary_female)\n",
        "Calculate the Means and Standard Deviations:\n",
        "\n",
        "Compute the mean and standard deviation of salaries for both male and female employees.\n",
        "Perform the T-Test:\n",
        "\n",
        "Calculate the t-statistic and p-value to compare the two means.\n",
        "Here is a Python program that performs these calculations:"
      ],
      "metadata": {
        "id": "FW-SUYU1yrzg"
      }
    },
    {
      "cell_type": "code",
      "source": [
        "import numpy as np\n",
        "from scipy import stats\n",
        "\n",
        "def salary_gap_analysis(male_salaries, female_salaries):\n",
        "    # Convert lists to numpy arrays\n",
        "    males = np.array(male_salaries)\n",
        "    females = np.array(female_salaries)\n",
        "\n",
        "    # Calculate means\n",
        "    mean_male = np.mean(males)\n",
        "    mean_female = np.mean(females)\n",
        "\n",
        "    # Calculate standard deviations\n",
        "    std_male = np.std(males, ddof=1)\n",
        "    std_female = np.std(females, ddof=1)\n",
        "\n",
        "    # Sample sizes\n",
        "    n_male = len(males)\n",
        "    n_female = len(females)\n",
        "\n",
        "    # Calculate the t-statistic and p-value\n",
        "    pooled_var = (((n_male - 1) * std_male**2) + ((n_female - 1) * std_female**2)) / (n_male + n_female - 2)\n",
        "    se = np.sqrt(pooled_var * (1 / n_male + 1 / n_female))\n",
        "    t_statistic = (mean_male - mean_female) / se\n",
        "\n",
        "    # Degrees of freedom\n",
        "    degrees_of_freedom = n_male + n_female - 2\n",
        "\n",
        "    # Calculate the p-value (two-tailed test)\n",
        "    p_value = stats.t.sf(np.abs(t_statistic), degrees_of_freedom) * 2\n",
        "\n",
        "    # Output results\n",
        "    print(f\"Mean salary for males: ${mean_male:.2f}\")\n",
        "    print(f\"Mean salary for females: ${mean_female:.2f}\")\n",
        "    print(f\"Standard deviation for male salaries: ${std_male:.2f}\")\n",
        "    print(f\"Standard deviation for female salaries: ${std_female:.2f}\")\n",
        "    print(f\"T-statistic: {t_statistic:.4f}\")\n",
        "    print(f\"Degrees of freedom: {degrees_of_freedom}\")\n",
        "    print(f\"P-value: {p_value:.4f}\")\n",
        "\n",
        "    # Determine if the difference is statistically significant\n",
        "    alpha = 0.05  # significance level\n",
        "    if p_value < alpha:\n",
        "        print(\"Reject the null hypothesis: There is a significant difference in average salaries between male and female employees.\")\n",
        "    else:\n",
        "        print(\"Fail to reject the null hypothesis: No significant difference in average salaries between male and female employees.\")\n",
        "\n",
        "# Generate synthetic salary data\n",
        "np.random.seed(0)  # For reproducibility\n",
        "male_salaries = np.random.normal(loc=50000, scale=10000, size=20)\n",
        "female_salaries = np.random.normal(loc=55000, scale=9000, size=20)\n",
        "\n",
        "# Perform salary gap analysis\n",
        "salary_gap_analysis(male_salaries, female_salaries)\n"
      ],
      "metadata": {
        "id": "6JgTquSfyrYL"
      },
      "execution_count": null,
      "outputs": []
    },
    {
      "cell_type": "markdown",
      "source": [
        "Explanation:\n",
        "Calculate Means and Standard Deviations:\n",
        "\n",
        "mean_male and mean_female are the average salaries for male and female employees.\n",
        "std_male and std_female are the standard deviations of salaries.\n",
        "Pooled Variance:\n",
        "\n",
        "Combines the variances from both samples to estimate the common variance.\n",
        "Standard Error:\n",
        "\n",
        "Measures the variability of the difference between the two means.\n",
        "T-Statistic:\n",
        "\n",
        "Measures how many standard errors the observed difference is from the null hypothesis mean difference.\n",
        "Degrees of Freedom:\n",
        "\n",
        "Calculated as the sum of the sample sizes minus 2.\n",
        "P-Value:\n",
        "\n",
        "For a two-tailed test, stats.t.sf(np.abs(t_statistic), degrees_of_freedom) * 2 gives the p-value, indicating the probability of observing a t-statistic as extreme as the one calculated.\n",
        "Decision:\n",
        "\n",
        "Compare the p-value to the significance level (alpha) to determine if there is a significant difference in average salaries between male and female employees.\n",
        "This analysis will help you assess whether there is a statistically significant salary gap between male and female employees in the company."
      ],
      "metadata": {
        "id": "Retz9wlGyxhL"
      }
    },
    {
      "cell_type": "markdown",
      "source": [
        "19) A manufacturer produces two different versions of a product and wants to compare their quality scores.\n",
        "Create a Python @unction to analyze quality assessment data, calculate the t-statistic, and decide\n",
        "whether there's a significant difference in quality between the two versions.\n",
        "\n",
        "\n",
        "Use the following data\n",
        "python\n",
        "\n",
        "version1_scores = [85, 88, 82, 89, 87, 84, 90, 88, 85, 86, 91, 83, 87, 84, 89, 86, 84, 88, 85, 86, 89, 90, 87, 88, 85]\n",
        "\n",
        "version2_scores = [80, 78, 83, 81, 79, 82, 76, 80, 78, 81, 77, 82, 80, 79, 82, 79, 80, 81, 79, 82, 79, 78, 80, 81, 82]"
      ],
      "metadata": {
        "id": "gvtl8ebny0sP"
      }
    },
    {
      "cell_type": "markdown",
      "source": [
        "To compare the quality scores between the two versions of the product, you can perform a two-sample t-test. This test will help you determine if there is a significant difference in the mean scores of the two versions. Here’s a Python function that calculates the t-statistic and determines if the difference is significant:\n",
        "\n"
      ],
      "metadata": {
        "id": "01bpeQ9lOnV8"
      }
    },
    {
      "cell_type": "code",
      "source": [
        "from scipy import stats\n",
        "\n",
        "def analyze_quality(version1_scores, version2_scores, alpha=0.05):\n",
        "    # Calculate t-statistic and p-value for independent samples t-test\n",
        "    t_statistic, p_value = stats.ttest_ind(version1_scores, version2_scores, equal_var=False)\n",
        "\n",
        "    # Print the results\n",
        "    print(f\"T-statistic: {t_statistic:.4f}\")\n",
        "    print(f\"P-value: {p_value:.4f}\")\n",
        "\n",
        "    # Determine if the difference is significant\n",
        "    if p_value < alpha:\n",
        "        print(\"There is a significant difference in quality between the two versions.\")\n",
        "    else:\n",
        "        print(\"There is no significant difference in quality between the two versions.\")\n",
        "\n",
        "# Sample data\n",
        "version1_scores = [85, 88, 82, 89, 87, 84, 90, 88, 85, 86, 91, 83, 87, 84, 89, 86, 84, 88, 85, 86, 89, 90, 87, 88, 85]\n",
        "version2_scores = [80, 78, 83, 81, 79, 82, 76, 80, 78, 81, 77, 82, 80, 79, 82, 79, 80, 81, 79, 82, 79, 78, 80, 81, 82]\n",
        "\n",
        "# Analyze the quality scores\n",
        "analyze_quality(version1_scores, version2_scores)\n"
      ],
      "metadata": {
        "id": "_zUzmInYOrTj"
      },
      "execution_count": null,
      "outputs": []
    },
    {
      "cell_type": "markdown",
      "source": [
        "Explanation:\n",
        "Import the stats module from scipy which provides the ttest_ind function for the t-test.\n",
        "Define the analyze_quality function:\n",
        "Use stats.ttest_ind to calculate the t-statistic and p-value. The equal_var=False argument is used to account for the possibility that the variances of the two samples are not equal (Welch’s t-test).\n",
        "Print the t-statistic and p-value.\n",
        "Compare the p-value to the significance level (alpha). If the p-value is less than alpha, conclude that there is a significant difference between the two versions.\n",
        "You can adjust the alpha value if you need a different significance level (e.g., 0.01 for a more stringent test)."
      ],
      "metadata": {
        "id": "KMNry40QOumQ"
      }
    },
    {
      "cell_type": "markdown",
      "source": [
        "20. A restaurant chain collects customer satisfaction scores for two different branches. Write a program to\n",
        "analyze the scores, calculate the t-statistic, and determine if there's a statistically significant difference in\n",
        "customer satisfaction between the branches.\n",
        "\n",
        "\n",
        "Use the below data of scores:\n",
        "\n",
        "  \n",
        "python\n",
        "\n",
        "branch_a_scores = [4, 5, 3, 4, 5, 4, 5, 3, 4, 4, 5, 4, 4, 3, 4, 5, 5, 4, 3, 4, 5, 4, 3, 5, 4, 4, 5, 3, 4, 5, 4]\n",
        "\n",
        "branch_b_scores = [3, 4, 2, 3, 4, 3, 4, 2, 3, 3, 4, 3, 3, 2, 3, 4, 4, 3, 2, 3, 4, 3, 2, 4, 3, 3, 4, 2, 3, 4, 3]\n",
        "\n"
      ],
      "metadata": {
        "id": "aj2_3B6ROyLq"
      }
    },
    {
      "cell_type": "markdown",
      "source": [
        "To analyze the customer satisfaction scores between two branches and determine if there's a significant difference, you can use a two-sample t-test similar to the previous example. Here’s a Python function to perform this analysis:"
      ],
      "metadata": {
        "id": "vBrPymMOPIZw"
      }
    },
    {
      "cell_type": "code",
      "source": [
        "from scipy import stats\n",
        "\n",
        "def analyze_satisfaction(branch_a_scores, branch_b_scores, alpha=0.05):\n",
        "    # Calculate t-statistic and p-value for independent samples t-test\n",
        "    t_statistic, p_value = stats.ttest_ind(branch_a_scores, branch_b_scores, equal_var=False)\n",
        "\n",
        "    # Print the results\n",
        "    print(f\"T-statistic: {t_statistic:.4f}\")\n",
        "    print(f\"P-value: {p_value:.4f}\")\n",
        "\n",
        "    # Determine if the difference is significant\n",
        "    if p_value < alpha:\n",
        "        print(\"There is a statistically significant difference in customer satisfaction between the two branches.\")\n",
        "    else:\n",
        "        print(\"There is no statistically significant difference in customer satisfaction between the two branches.\")\n",
        "\n",
        "# Sample data\n",
        "branch_a_scores = [4, 5, 3, 4, 5, 4, 5, 3, 4, 4, 5, 4, 4, 3, 4, 5, 5, 4, 3, 4, 5, 4, 3, 5, 4, 4, 5, 3, 4, 5, 4]\n",
        "branch_b_scores = [3, 4, 2, 3, 4, 3, 4, 2, 3, 3, 4, 3, 3, 2, 3, 4, 4, 3, 2, 3, 4, 3, 2, 4, 3, 3, 4, 2, 3, 4, 3]\n",
        "\n",
        "# Analyze the satisfaction scores\n",
        "analyze_satisfaction(branch_a_scores, branch_b_scores)\n"
      ],
      "metadata": {
        "id": "zeW0crwmPLEE"
      },
      "execution_count": null,
      "outputs": []
    },
    {
      "cell_type": "markdown",
      "source": [
        "Explanation:\n",
        "Import the stats module from scipy, which provides the ttest_ind function.\n",
        "Define the analyze_satisfaction function:\n",
        "Compute the t-statistic and p-value using stats.ttest_ind. The equal_var=False argument is used to account for possible unequal variances (Welch’s t-test).\n",
        "Print the t-statistic and p-value.\n",
        "Compare the p-value to the significance level (alpha). If the p-value is less than alpha, it indicates a statistically significant difference between the two branches.\n",
        "You can adjust the alpha value based on your desired significance level (e.g., 0.01 for a more stringent test)."
      ],
      "metadata": {
        "id": "I_G4FABVPQgn"
      }
    },
    {
      "cell_type": "markdown",
      "source": [
        "21) A political analyst wants to determine if there is a significant association between age groups and voter\n",
        "preferences Candidate A or Candidate B). They collect data from sample of 500 voters and classify\n",
        "them into different age groups and candidate preferences. Perform a Chi-Square test to determine if\n",
        "there is a significant association between age groups and voter preference's.\n",
        "\n",
        "\n",
        "Use the below code to generate data:\n",
        "\n",
        "python\n",
        "\n",
        "np.random.seed(0)\n",
        "\n",
        "age_groups = np.random.choice([ 18 30 , 31 50 , 51+', 51+'], size=30)\n",
        "\n",
        "voter_preferences = np.random.choice(['Candidate A', 'Candidate B'], size=30)\n"
      ],
      "metadata": {
        "id": "bWivLyuTPRZG"
      }
    },
    {
      "cell_type": "markdown",
      "source": [
        "To determine if there's a significant association between age groups and voter preferences using a Chi-Square test, follow these steps:\n",
        "\n",
        "Generate the data using the provided code.\n",
        "Create a contingency table showing the frequency of each combination of age groups and voter preferences.\n",
        "Perform the Chi-Square test on the contingency table.\n",
        "Here's the complete Python code to accomplish this:"
      ],
      "metadata": {
        "id": "3bfWalByP5SM"
      }
    },
    {
      "cell_type": "code",
      "source": [
        "import numpy as np\n",
        "import pandas as pd\n",
        "from scipy import stats\n",
        "\n",
        "# Set the random seed for reproducibility\n",
        "np.random.seed(0)\n",
        "\n",
        "# Generate sample data\n",
        "age_groups = np.random.choice(['18-30', '31-50', '51+'], size=500)\n",
        "voter_preferences = np.random.choice(['Candidate A', 'Candidate B'], size=500)\n",
        "\n",
        "# Create a DataFrame\n",
        "data = pd.DataFrame({\n",
        "    'Age Group': age_groups,\n",
        "    'Voter Preference': voter_preferences\n",
        "})\n",
        "\n",
        "# Create a contingency table\n",
        "contingency_table = pd.crosstab(data['Age Group'], data['Voter Preference'])\n",
        "\n",
        "# Perform the Chi-Square test\n",
        "chi2_stat, p_value, dof, expected = stats.chi2_contingency(contingency_table)\n",
        "\n",
        "# Print results\n",
        "print(\"Contingency Table:\")\n",
        "print(contingency_table)\n",
        "print(\"\\nChi-Square Statistic:\", chi2_stat)\n",
        "print(\"P-Value:\", p_value)\n",
        "print(\"Degrees of Freedom:\", dof)\n",
        "print(\"Expected Frequencies Table:\")\n",
        "print(expected)\n",
        "\n",
        "# Determine if the association is significant\n",
        "alpha = 0.05\n",
        "if p_value < alpha:\n",
        "    print(\"\\nThere is a significant association between age groups and voter preferences.\")\n",
        "else:\n",
        "    print(\"\\nThere is no significant association between age groups and voter preferences.\")\n"
      ],
      "metadata": {
        "id": "ZZpDFbwXP6Nx"
      },
      "execution_count": null,
      "outputs": []
    },
    {
      "cell_type": "markdown",
      "source": [
        "Explanation:\n",
        "Generate Data:\n",
        "\n",
        "Use np.random.choice to generate age_groups and voter_preferences for 500 voters.\n",
        "Create a DataFrame:\n",
        "\n",
        "Use pandas.DataFrame to organize the generated data into a DataFrame.\n",
        "Contingency Table:\n",
        "\n",
        "Use pd.crosstab to create a contingency table from the DataFrame. This table shows the frequency of each combination of age group and voter preference.\n",
        "Chi-Square Test:\n",
        "\n",
        "Use stats.chi2_contingency to perform the Chi-Square test on the contingency table. This function returns the Chi-Square statistic, p-value, degrees of freedom, and expected frequencies.\n",
        "Interpret Results:\n",
        "\n",
        "Compare the p-value with the significance level (alpha). If the p-value is less than alpha, it indicates a significant association between age groups and voter preferences.\n",
        "Make sure to adjust the number of samples and the actual age groups and voter preferences as needed for your specific analysis.\n",
        "\n",
        "\n",
        "\n",
        "\n",
        "\n",
        "\n"
      ],
      "metadata": {
        "id": "GBxpO0tMP9Nh"
      }
    },
    {
      "cell_type": "markdown",
      "source": [
        "22. A company conducted a customer satisfaction survey to determine if there is a significant relationship\n",
        "between product satisfaction levels (Satisfied, Neutral, Dissatisfied) and the region where customers are\n",
        "located (East, West, North, South). The survey data is summarized in a contingency table. Conduct a Chi-Square test to determine if there is a significant relationship between product satisfaction levels and\n",
        "customer regions.\n",
        "\n",
        "\n",
        "Sample data:\n",
        "\n",
        "python\n",
        "\n",
        "#Sample data: Product satisfaction levels (rows) vs. Customer regions (columns)\n",
        "\n",
        "data = np.array([[50, 30, 40, 20], [30, 40, 30, 50], [20, 30, 40, 30]]"
      ],
      "metadata": {
        "id": "RWyS1SlPQVLr"
      }
    },
    {
      "cell_type": "markdown",
      "source": [
        "To determine if there is a significant relationship between product satisfaction levels and customer regions using a Chi-Square test, follow these steps:\n",
        "\n",
        "Create a contingency table from the provided data.\n",
        "Perform the Chi-Square test on the contingency table.\n",
        "Here's the Python code to accomplish this:"
      ],
      "metadata": {
        "id": "_wGXs6lUQWau"
      }
    },
    {
      "cell_type": "code",
      "source": [
        "import numpy as np\n",
        "from scipy import stats\n",
        "\n",
        "# Sample data: Product satisfaction levels (rows) vs. Customer regions (columns)\n",
        "data = np.array([[50, 30, 40, 20],\n",
        "                 [30, 40, 30, 50],\n",
        "                 [20, 30, 40, 30]])\n",
        "\n",
        "# Perform the Chi-Square test\n",
        "chi2_stat, p_value, dof, expected = stats.chi2_contingency(data)\n",
        "\n",
        "# Print results\n",
        "print(\"Contingency Table:\")\n",
        "print(data)\n",
        "print(\"\\nChi-Square Statistic:\", chi2_stat)\n",
        "print(\"P-Value:\", p_value)\n",
        "print(\"Degrees of Freedom:\", dof)\n",
        "print(\"Expected Frequencies Table:\")\n",
        "print(expected)\n",
        "\n",
        "# Determine if the relationship is significant\n",
        "alpha = 0.05\n",
        "if p_value < alpha:\n",
        "    print(\"\\nThere is a significant relationship between product satisfaction levels and customer regions.\")\n",
        "else:\n",
        "    print(\"\\nThere is no significant relationship between product satisfaction levels and customer regions.\")\n"
      ],
      "metadata": {
        "id": "XIwp4zDhQW1b"
      },
      "execution_count": null,
      "outputs": []
    },
    {
      "cell_type": "markdown",
      "source": [
        "Explanation:\n",
        "Data Setup:\n",
        "\n",
        "The data array represents the contingency table where rows correspond to product satisfaction levels and columns correspond to customer regions.\n",
        "Chi-Square Test:\n",
        "\n",
        "Use stats.chi2_contingency to perform the Chi-Square test. This function returns the Chi-Square statistic, p-value, degrees of freedom, and expected frequencies.\n",
        "Interpret Results:\n",
        "\n",
        "Print the contingency table, Chi-Square statistic, p-value, degrees of freedom, and expected frequencies.\n",
        "Compare the p-value to the significance level (alpha). If the p-value is less than alpha, it indicates a significant relationship between product satisfaction levels and customer regions.\n",
        "This test helps you determine if there's a dependency between the categorical variables in your survey data."
      ],
      "metadata": {
        "id": "B7ntEGTSQfWw"
      }
    },
    {
      "cell_type": "markdown",
      "source": [
        "23. A company implemented an employee training program to improve job performance (Effective, Neutral,\n",
        "Ineffective). After the training, they collected data from a sample of employees and classified them based\n",
        "on their job performance before and after the training. Perform a Chi-Square test to determine if there is a\n",
        "significant difference between job performance levels before and after the training.\n",
        "\n",
        "\n",
        "Sample data:\n",
        "\n",
        "python\n",
        "\n",
        "# Sample data: Job performance levels before (rows) and after (columns) training\n",
        "\n",
        "data = np.array([[50, 30, 20], [30, 40, 30], [20, 30, 40]]\n"
      ],
      "metadata": {
        "id": "07Vp2asGQjH3"
      }
    },
    {
      "cell_type": "markdown",
      "source": [
        "To determine if there is a significant difference in job performance levels before and after the training using a Chi-Square test, follow these steps:\n",
        "\n",
        "Create a contingency table from the provided data.\n",
        "Perform the Chi-Square test on the contingency table.\n",
        "Here’s how you can do this in Python:"
      ],
      "metadata": {
        "id": "UAXvYJ7oQvsE"
      }
    },
    {
      "cell_type": "code",
      "source": [
        "import numpy as np\n",
        "from scipy import stats\n",
        "\n",
        "# Sample data: Job performance levels before (rows) and after (columns) training\n",
        "data = np.array([[50, 30, 20],\n",
        "                 [30, 40, 30],\n",
        "                 [20, 30, 40]])\n",
        "\n",
        "# Perform the Chi-Square test\n",
        "chi2_stat, p_value, dof, expected = stats.chi2_contingency(data)\n",
        "\n",
        "# Print results\n",
        "print(\"Contingency Table:\")\n",
        "print(data)\n",
        "print(\"\\nChi-Square Statistic:\", chi2_stat)\n",
        "print(\"P-Value:\", p_value)\n",
        "print(\"Degrees of Freedom:\", dof)\n",
        "print(\"Expected Frequencies Table:\")\n",
        "print(expected)\n",
        "\n",
        "# Determine if the difference is significant\n",
        "alpha = 0.05\n",
        "if p_value < alpha:\n",
        "    print(\"\\nThere is a significant difference in job performance levels before and after the training.\")\n",
        "else:\n",
        "    print(\"\\nThere is no significant difference in job performance levels before and after the training.\")\n"
      ],
      "metadata": {
        "id": "oBqHE-5YQuiH"
      },
      "execution_count": null,
      "outputs": []
    },
    {
      "cell_type": "markdown",
      "source": [
        "Explanation:\n",
        "Data Setup:\n",
        "\n",
        "The data array represents the contingency table where rows correspond to job performance levels before the training, and columns correspond to job performance levels after the training.\n",
        "Chi-Square Test:\n",
        "\n",
        "Use stats.chi2_contingency to perform the Chi-Square test. This function calculates the Chi-Square statistic, p-value, degrees of freedom, and expected frequencies.\n",
        "Interpret Results:\n",
        "\n",
        "Print the contingency table, Chi-Square statistic, p-value, degrees of freedom, and expected frequencies.\n",
        "Compare the p-value to the significance level (alpha). If the p-value is less than alpha, it indicates a significant difference in job performance levels before and after the training.\n",
        "This test will help you assess whether the changes in job performance levels are statistically significant, suggesting whether the training program had an impact on employee performance."
      ],
      "metadata": {
        "id": "edi6KB7RQ37x"
      }
    },
    {
      "cell_type": "markdown",
      "source": [
        "24. A company produces three different versions of a product: Standard, Premium, and Deluxe. The\n",
        "company wants to determine if there is a significant difference in customer satisfaction scores among the\n",
        "three product versions. They conducted a survey and collected customer satisfaction scores for each\n",
        "version from a random sample of customers. Perform an ANOVA test to determine if there is a significant\n",
        "difference in customer satisfaction scores.\n",
        "\n",
        "\n",
        "  Use the following data:\n",
        "\n",
        "  \n",
        "python\n",
        "\n",
        "  # Sample data: Customer satisfaction scores for each product version\n",
        "\n",
        "  standard_scores = [80, 85, 90, 78, 88, 82, 92, 78, 85, 87]\n",
        "\n",
        "  premium_scores = [90, 92, 88, 92, 95, 91, 96, 93, 89, 93]\n",
        "\n",
        "  deluxe_scores = [95, 98, 92, 97, 96, 94, 98, 97, 92, 99]"
      ],
      "metadata": {
        "id": "d4slU1xkQ5Eu"
      }
    },
    {
      "cell_type": "markdown",
      "source": [
        "To determine if there is a significant difference in customer satisfaction scores among the three product versions (Standard, Premium, and Deluxe), you can perform a one-way ANOVA test. Here’s how you can do this in Python:\n",
        "\n",
        "Prepare the data for each product version.\n",
        "Perform the ANOVA test to compare the means of the satisfaction scores across the three groups.\n",
        "Here’s the Python code to perform the ANOVA test:"
      ],
      "metadata": {
        "id": "BVpm_3mlRC-X"
      }
    },
    {
      "cell_type": "code",
      "source": [
        "import numpy as np\n",
        "from scipy import stats\n",
        "\n",
        "# Sample data: Customer satisfaction scores for each product version\n",
        "standard_scores = [80, 85, 90, 78, 88, 82, 92, 78, 85, 87]\n",
        "premium_scores = [90, 92, 88, 92, 95, 91, 96, 93, 89, 93]\n",
        "deluxe_scores = [95, 98, 92, 97, 96, 94, 98, 97, 92, 99]\n",
        "\n",
        "# Perform one-way ANOVA test\n",
        "f_statistic, p_value = stats.f_oneway(standard_scores, premium_scores, deluxe_scores)\n",
        "\n",
        "# Print results\n",
        "print(\"F-Statistic:\", f_statistic)\n",
        "print(\"P-Value:\", p_value)\n",
        "\n",
        "# Determine if the difference is significant\n",
        "alpha = 0.05\n",
        "if p_value < alpha:\n",
        "    print(\"\\nThere is a significant difference in customer satisfaction scores among the three product versions.\")\n",
        "else:\n",
        "    print(\"\\nThere is no significant difference in customer satisfaction scores among the three product versions.\")\n"
      ],
      "metadata": {
        "id": "mA3TFoFRRGR0"
      },
      "execution_count": null,
      "outputs": []
    },
    {
      "cell_type": "markdown",
      "source": [
        "Explanation:\n",
        "Data Preparation:\n",
        "\n",
        "The satisfaction scores for each product version (Standard, Premium, and Deluxe) are provided in separate lists.\n",
        "ANOVA Test:\n",
        "\n",
        "Use stats.f_oneway from the scipy library to perform the one-way ANOVA test. This function compares the means of the provided groups and returns the F-statistic and the p-value.\n",
        "Interpret Results:\n",
        "\n",
        "Print the F-statistic and p-value.\n",
        "Compare the p-value to the significance level (alpha). If the p-value is less than alpha, it indicates a significant difference in customer satisfaction scores among the three product versions.\n",
        "This test will help you determine if the differences in customer satisfaction scores are statistically significant or if they could have occurred by chance."
      ],
      "metadata": {
        "id": "ID92aWF0RH9L"
      }
    }
  ]
}